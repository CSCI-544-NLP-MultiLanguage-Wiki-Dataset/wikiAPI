{
 "cells": [
  {
   "cell_type": "code",
   "execution_count": 10,
   "metadata": {},
   "outputs": [],
   "source": [
    "import matplotlib.pyplot as plt\n",
    "import seaborn as sns\n",
    "import pandas as pd\n",
    "import numpy as np\n",
    "sns.set()\n",
    "plt.rcParams.update({'font.size': 26})"
   ]
  },
  {
   "cell_type": "code",
   "execution_count": 11,
   "metadata": {},
   "outputs": [],
   "source": [
    "en_data = pd.read_csv('wikiAPI/datasets/en_04_17.csv')\n",
    "tr_data = pd.read_csv('wikiAPI/datasets/tr_04_14.csv')"
   ]
  },
  {
   "cell_type": "code",
   "execution_count": 12,
   "metadata": {},
   "outputs": [],
   "source": [
    "en_data['numtok'] = en_data['text'].apply(lambda x: len(x.split()))\n",
    "tr_data['numtok'] = tr_data['text'].apply(lambda x: len(x.split()))"
   ]
  },
  {
   "cell_type": "code",
   "execution_count": 13,
   "metadata": {},
   "outputs": [
    {
     "data": {
      "text/html": [
       "<div>\n",
       "<style scoped>\n",
       "    .dataframe tbody tr th:only-of-type {\n",
       "        vertical-align: middle;\n",
       "    }\n",
       "\n",
       "    .dataframe tbody tr th {\n",
       "        vertical-align: top;\n",
       "    }\n",
       "\n",
       "    .dataframe thead th {\n",
       "        text-align: right;\n",
       "    }\n",
       "</style>\n",
       "<table border=\"1\" class=\"dataframe\">\n",
       "  <thead>\n",
       "    <tr style=\"text-align: right;\">\n",
       "      <th></th>\n",
       "      <th>Unnamed: 0</th>\n",
       "      <th>pageid</th>\n",
       "      <th>title</th>\n",
       "      <th>category</th>\n",
       "      <th>label</th>\n",
       "      <th>language</th>\n",
       "      <th>text</th>\n",
       "      <th>links</th>\n",
       "      <th>numtok</th>\n",
       "    </tr>\n",
       "  </thead>\n",
       "  <tbody>\n",
       "    <tr>\n",
       "      <th>0</th>\n",
       "      <td>0</td>\n",
       "      <td>26700</td>\n",
       "      <td>Science</td>\n",
       "      <td>Science</td>\n",
       "      <td>0</td>\n",
       "      <td>en</td>\n",
       "      <td>Science (from Latin  scientia 'knowledge') is ...</td>\n",
       "      <td>[56661172, 2665685, 6679056]</td>\n",
       "      <td>388</td>\n",
       "    </tr>\n",
       "    <tr>\n",
       "      <th>1</th>\n",
       "      <td>1</td>\n",
       "      <td>9145213</td>\n",
       "      <td>Outline of science</td>\n",
       "      <td>Science</td>\n",
       "      <td>0</td>\n",
       "      <td>en</td>\n",
       "      <td>The following outline is provided as a topical...</td>\n",
       "      <td>[61744455, 52412, 69658254]</td>\n",
       "      <td>99</td>\n",
       "    </tr>\n",
       "    <tr>\n",
       "      <th>2</th>\n",
       "      <td>2</td>\n",
       "      <td>70476313</td>\n",
       "      <td>Monochrome-astrophotography-techniques</td>\n",
       "      <td>Science</td>\n",
       "      <td>0</td>\n",
       "      <td>en</td>\n",
       "      <td>Monochrome photography is one of the earliest ...</td>\n",
       "      <td>[571760, 14092434, 422994]</td>\n",
       "      <td>59</td>\n",
       "    </tr>\n",
       "    <tr>\n",
       "      <th>3</th>\n",
       "      <td>3</td>\n",
       "      <td>26997</td>\n",
       "      <td>Scientist</td>\n",
       "      <td>Science</td>\n",
       "      <td>0</td>\n",
       "      <td>en</td>\n",
       "      <td>A scientist is a person who conducts scientifi...</td>\n",
       "      <td>[56661172, 238212, 19616384]</td>\n",
       "      <td>131</td>\n",
       "    </tr>\n",
       "    <tr>\n",
       "      <th>4</th>\n",
       "      <td>4</td>\n",
       "      <td>9145213</td>\n",
       "      <td>Outline of science</td>\n",
       "      <td>Science</td>\n",
       "      <td>0</td>\n",
       "      <td>en</td>\n",
       "      <td>The following outline is provided as a topical...</td>\n",
       "      <td>[61744455, 52412, 69658254]</td>\n",
       "      <td>99</td>\n",
       "    </tr>\n",
       "    <tr>\n",
       "      <th>...</th>\n",
       "      <td>...</td>\n",
       "      <td>...</td>\n",
       "      <td>...</td>\n",
       "      <td>...</td>\n",
       "      <td>...</td>\n",
       "      <td>...</td>\n",
       "      <td>...</td>\n",
       "      <td>...</td>\n",
       "      <td>...</td>\n",
       "    </tr>\n",
       "    <tr>\n",
       "      <th>6995</th>\n",
       "      <td>6995</td>\n",
       "      <td>65326971</td>\n",
       "      <td>Pop culture fiction</td>\n",
       "      <td>Entertainment</td>\n",
       "      <td>6</td>\n",
       "      <td>en</td>\n",
       "      <td>Pop culture fiction is a genre of fiction wher...</td>\n",
       "      <td>[246007, 39973509, 39973509]</td>\n",
       "      <td>34</td>\n",
       "    </tr>\n",
       "    <tr>\n",
       "      <th>6996</th>\n",
       "      <td>6996</td>\n",
       "      <td>24145</td>\n",
       "      <td>Pun</td>\n",
       "      <td>Entertainment</td>\n",
       "      <td>6</td>\n",
       "      <td>en</td>\n",
       "      <td>A pun, also known as paronomasia, is a form of...</td>\n",
       "      <td>[17585982, 38870062, 2986]</td>\n",
       "      <td>122</td>\n",
       "    </tr>\n",
       "    <tr>\n",
       "      <th>6997</th>\n",
       "      <td>6997</td>\n",
       "      <td>1311322</td>\n",
       "      <td>Satire boom</td>\n",
       "      <td>Entertainment</td>\n",
       "      <td>6</td>\n",
       "      <td>en</td>\n",
       "      <td>The satire boom was the output of a generation...</td>\n",
       "      <td>[82767, 167557, 19344654]</td>\n",
       "      <td>382</td>\n",
       "    </tr>\n",
       "    <tr>\n",
       "      <th>6998</th>\n",
       "      <td>6998</td>\n",
       "      <td>9765056</td>\n",
       "      <td>Satirical ostraca</td>\n",
       "      <td>Entertainment</td>\n",
       "      <td>6</td>\n",
       "      <td>en</td>\n",
       "      <td>Satirical ostraca are a category of ostraca (s...</td>\n",
       "      <td>[874, 11039790, 604865]</td>\n",
       "      <td>74</td>\n",
       "    </tr>\n",
       "    <tr>\n",
       "      <th>6999</th>\n",
       "      <td>6999</td>\n",
       "      <td>2405960</td>\n",
       "      <td>Smelfungus</td>\n",
       "      <td>Entertainment</td>\n",
       "      <td>6</td>\n",
       "      <td>en</td>\n",
       "      <td>Smelfungus is a name given by Laurence Sterne ...</td>\n",
       "      <td>[2014292, 3129771, 15626]</td>\n",
       "      <td>117</td>\n",
       "    </tr>\n",
       "  </tbody>\n",
       "</table>\n",
       "<p>7000 rows × 9 columns</p>\n",
       "</div>"
      ],
      "text/plain": [
       "      Unnamed: 0    pageid                                   title  \\\n",
       "0              0     26700                                 Science   \n",
       "1              1   9145213                      Outline of science   \n",
       "2              2  70476313  Monochrome-astrophotography-techniques   \n",
       "3              3     26997                               Scientist   \n",
       "4              4   9145213                      Outline of science   \n",
       "...          ...       ...                                     ...   \n",
       "6995        6995  65326971                     Pop culture fiction   \n",
       "6996        6996     24145                                     Pun   \n",
       "6997        6997   1311322                             Satire boom   \n",
       "6998        6998   9765056                       Satirical ostraca   \n",
       "6999        6999   2405960                              Smelfungus   \n",
       "\n",
       "           category  label language  \\\n",
       "0           Science      0       en   \n",
       "1           Science      0       en   \n",
       "2           Science      0       en   \n",
       "3           Science      0       en   \n",
       "4           Science      0       en   \n",
       "...             ...    ...      ...   \n",
       "6995  Entertainment      6       en   \n",
       "6996  Entertainment      6       en   \n",
       "6997  Entertainment      6       en   \n",
       "6998  Entertainment      6       en   \n",
       "6999  Entertainment      6       en   \n",
       "\n",
       "                                                   text  \\\n",
       "0     Science (from Latin  scientia 'knowledge') is ...   \n",
       "1     The following outline is provided as a topical...   \n",
       "2     Monochrome photography is one of the earliest ...   \n",
       "3     A scientist is a person who conducts scientifi...   \n",
       "4     The following outline is provided as a topical...   \n",
       "...                                                 ...   \n",
       "6995  Pop culture fiction is a genre of fiction wher...   \n",
       "6996  A pun, also known as paronomasia, is a form of...   \n",
       "6997  The satire boom was the output of a generation...   \n",
       "6998  Satirical ostraca are a category of ostraca (s...   \n",
       "6999  Smelfungus is a name given by Laurence Sterne ...   \n",
       "\n",
       "                             links  numtok  \n",
       "0     [56661172, 2665685, 6679056]     388  \n",
       "1      [61744455, 52412, 69658254]      99  \n",
       "2       [571760, 14092434, 422994]      59  \n",
       "3     [56661172, 238212, 19616384]     131  \n",
       "4      [61744455, 52412, 69658254]      99  \n",
       "...                            ...     ...  \n",
       "6995  [246007, 39973509, 39973509]      34  \n",
       "6996    [17585982, 38870062, 2986]     122  \n",
       "6997     [82767, 167557, 19344654]     382  \n",
       "6998       [874, 11039790, 604865]      74  \n",
       "6999     [2014292, 3129771, 15626]     117  \n",
       "\n",
       "[7000 rows x 9 columns]"
      ]
     },
     "execution_count": 13,
     "metadata": {},
     "output_type": "execute_result"
    }
   ],
   "source": [
    "en_data"
   ]
  },
  {
   "cell_type": "code",
   "execution_count": 14,
   "metadata": {},
   "outputs": [],
   "source": [
    "avg_tokens_english = en_data.groupby('category').mean().numtok.sort_values(ascending=False).tolist()"
   ]
  },
  {
   "cell_type": "code",
   "execution_count": 15,
   "metadata": {},
   "outputs": [],
   "source": [
    "avg_tokens_turkish = tr_data.groupby('category').mean().numtok"
   ]
  },
  {
   "cell_type": "code",
   "execution_count": 16,
   "metadata": {},
   "outputs": [
    {
     "data": {
      "text/plain": [
       "category\n",
       "Bilim      82.422\n",
       "Ekonomi    97.461\n",
       "Eğitim     91.220\n",
       "Eğlence    78.324\n",
       "Sağlık     93.455\n",
       "Siyaset    86.027\n",
       "Spor       60.693\n",
       "Name: numtok, dtype: float64"
      ]
     },
     "execution_count": 16,
     "metadata": {},
     "output_type": "execute_result"
    }
   ],
   "source": [
    "avg_tokens_turkish"
   ]
  },
  {
   "cell_type": "code",
   "execution_count": 17,
   "metadata": {},
   "outputs": [
    {
     "data": {
      "text/plain": [
       "[165.936, 161.466, 159.112, 149.028, 145.147, 140.021, 120.861]"
      ]
     },
     "execution_count": 17,
     "metadata": {},
     "output_type": "execute_result"
    }
   ],
   "source": [
    "avg_tokens_english"
   ]
  },
  {
   "cell_type": "code",
   "execution_count": 18,
   "metadata": {},
   "outputs": [],
   "source": [
    "classes = ['Health / Sağlık', \"Politics / Siyaset\", \"Economy / Ekonomi\", \"Education / Eğitim\", \"Science / Bilim\", \"Entertainment / Eğlence\", \"Sports / Spor\"]\n",
    "x = np.arange(7)\n",
    "final_avg_turkish_tokens = []\n",
    "for c in classes:\n",
    "    k = c.split(' / ')[1]\n",
    "    final_avg_turkish_tokens.append(avg_tokens_turkish.loc[k])"
   ]
  },
  {
   "cell_type": "code",
   "execution_count": 19,
   "metadata": {},
   "outputs": [
    {
     "data": {
      "text/plain": [
       "[165.936, 161.466, 159.112, 149.028, 145.147, 140.021, 120.861]"
      ]
     },
     "execution_count": 19,
     "metadata": {},
     "output_type": "execute_result"
    }
   ],
   "source": [
    "avg_tokens_english"
   ]
  },
  {
   "cell_type": "code",
   "execution_count": 20,
   "metadata": {},
   "outputs": [
    {
     "data": {
      "text/plain": [
       "[93.455, 86.027, 97.461, 91.22, 82.422, 78.324, 60.693]"
      ]
     },
     "execution_count": 20,
     "metadata": {},
     "output_type": "execute_result"
    }
   ],
   "source": [
    "final_avg_turkish_tokens"
   ]
  },
  {
   "cell_type": "code",
   "execution_count": 21,
   "metadata": {},
   "outputs": [
    {
     "data": {
      "image/png": "[encoded data removed]",
      "text/plain": [
       "<Figure size 1152x720 with 1 Axes>"
      ]
     },
     "metadata": {},
     "output_type": "display_data"
    }
   ],
   "source": [
    "# sns.set_style('whitegrid')\n",
    "sns.set_context('poster', font_scale = .6)\n",
    "fig = plt.figure(figsize=(16,10))\n",
    "plt.bar(x, avg_tokens_english, width=0.25, edgecolor='black', linewidth=1,  label = 'English')\n",
    "plt.bar(x+0.25, final_avg_turkish_tokens, width=0.25, edgecolor='black', linewidth=1, label = 'Turkish')\n",
    "plt.xticks(x+0.125, classes)\n",
    "plt.ylabel('Length of Tokens')\n",
    "plt.title('Average number of tokens')\n",
    "plt.legend()\n",
    "plt.savefig(\"avgtokens.png\")"
   ]
  },
  {
   "cell_type": "code",
   "execution_count": 131,
   "metadata": {
    "scrolled": false
   },
   "outputs": [
    {
     "data": {
      "image/png": "[encoded data removed]",
      "text/plain": [
       "<Figure size 1152x576 with 1 Axes>"
      ]
     },
     "metadata": {},
     "output_type": "display_data"
    }
   ],
   "source": [
    "sns.set_style('whitegrid')\n",
    "sns.set_context('poster', font_scale = .6)\n",
    "fig = plt.figure(figsize=(16,8))\n",
    "plt.barh(x, avg_tokens_english, height=0.3, edgecolor='black', linewidth=1,  label = 'English',align='center', color = '#3A8AD9')\n",
    "plt.barh(x+0.3, final_avg_turkish_tokens, height=0.3, edgecolor='black', linewidth=1, label = 'Turkish',align='center',color = '#7CC1F7')\n",
    "plt.yticks(x+0.125, classes, fontsize=20)\n",
    "plt.xticks(fontsize=20)\n",
    "plt.xlabel('Length of Tokens', fontsize=20)\n",
    "plt.title('Average number of tokens', fontsize=28, pad=20)\n",
    "plt.legend(prop={'size': 18})\n",
    "plt.savefig(\"avgtokensh.png\", facecolor='#EBEBEB',bbox_inches = \"tight\")"
   ]
  },
  {
   "cell_type": "code",
   "execution_count": null,
   "metadata": {},
   "outputs": [],
   "source": []
  },
  {
   "cell_type": "code",
   "execution_count": 23,
   "metadata": {},
   "outputs": [],
   "source": [
    "cats = en_data['category'].unique().tolist()\n",
    "results_en = {}\n",
    "for cat in cats:\n",
    "    results_en[cat] = len(set(en_data[en_data['category'] == cat].text.str.cat(sep = ' ').split()))"
   ]
  },
  {
   "cell_type": "code",
   "execution_count": 24,
   "metadata": {},
   "outputs": [],
   "source": [
    "cats = tr_data['category'].unique().tolist()\n",
    "results_tr = {}\n",
    "for cat in cats:\n",
    "    results_tr[cat] = len(set(tr_data[tr_data['category'] == cat].text.str.cat(sep = ' ').split()))"
   ]
  },
  {
   "cell_type": "code",
   "execution_count": 25,
   "metadata": {},
   "outputs": [],
   "source": [
    "classes2 = ['Entertainment / Eğlence','Politics / Siyaset','Health / Sağlık','Science / Bilim','Economy / Ekonomi','Education / Eğitim','Sports / Spor']\n",
    "temp = sorted([(k,v) for k,v in results_en.items()], key = lambda x: x[1], reverse=True)\n",
    "vocab_len_en = [x[1] for x in temp]\n",
    "vocab_len_tr = []\n",
    "for c in classes2:\n",
    "        vocab_len_tr.append(results_tr[c.split(' / ')[1]])"
   ]
  },
  {
   "cell_type": "code",
   "execution_count": 26,
   "metadata": {},
   "outputs": [
    {
     "data": {
      "text/plain": [
       "[26362, 26218, 25762, 25059, 24506, 21910, 20783]"
      ]
     },
     "execution_count": 26,
     "metadata": {},
     "output_type": "execute_result"
    }
   ],
   "source": [
    "vocab_len_en"
   ]
  },
  {
   "cell_type": "code",
   "execution_count": 27,
   "metadata": {},
   "outputs": [
    {
     "data": {
      "text/plain": [
       "[26990, 26377, 30983, 29176, 24653, 23845, 18002]"
      ]
     },
     "execution_count": 27,
     "metadata": {},
     "output_type": "execute_result"
    }
   ],
   "source": [
    "vocab_len_tr"
   ]
  },
  {
   "cell_type": "code",
   "execution_count": 130,
   "metadata": {},
   "outputs": [
    {
     "data": {
      "image/png": "[encoded data removed]",
      "text/plain": [
       "<Figure size 1224x432 with 1 Axes>"
      ]
     },
     "metadata": {},
     "output_type": "display_data"
    }
   ],
   "source": [
    "# sns.set_style()\n",
    "sns.set_style('white')\n",
    "fig = plt.figure(figsize=(17,6))\n",
    "plt.xlim(10000,35000)\n",
    "plt.hlines(x, xmin = 0, xmax = 35000, linewidth=1, color='gray')\n",
    "plt.plot(vocab_len_en, x,  \"o\",label = 'English', markersize=18, color='#DC562A')\n",
    "# plt.hlines(x, xmin = 0, xmax = 35000)\n",
    "plt.plot(vocab_len_tr,x, \"D\",label = 'Turkish', color='#662484',markersize=16)\n",
    "# plt.line(x, vocab_len_en)\n",
    "\n",
    "\n",
    "plt.yticks(x, classes2, fontsize=20)\n",
    "plt.xticks(fontsize=20)\n",
    "# plt.xlabel(, fontsize=20)\n",
    "plt.title('Vocabulary Size', fontsize=28, pad=20)\n",
    "plt.legend(prop={'size': 18})\n",
    "plt.savefig(\"avgtokenshvocab.png\", dpi=300, facecolor='#EBEBEB',bbox_inches = \"tight\")"
   ]
  },
  {
   "cell_type": "code",
   "execution_count": 76,
   "metadata": {},
   "outputs": [
    {
     "data": {
      "text/plain": [
       "['Health / Sağlık',\n",
       " 'Politics / Siyaset',\n",
       " 'Economy / Ekonomi',\n",
       " 'Education / Eğitim',\n",
       " 'Science / Bilim',\n",
       " 'Entertainment / Eğlence',\n",
       " 'Sports / Spor']"
      ]
     },
     "execution_count": 76,
     "metadata": {},
     "output_type": "execute_result"
    }
   ],
   "source": [
    "classes"
   ]
  },
  {
   "cell_type": "code",
   "execution_count": 57,
   "metadata": {},
   "outputs": [],
   "source": [
    "en_data21 = pd.read_csv('wikiAPI/datasets/en_04_18.csv')"
   ]
  },
  {
   "cell_type": "code",
   "execution_count": 61,
   "metadata": {},
   "outputs": [],
   "source": [
    "en_data22 = pd.read_csv('wikiAPI/datasets/en_04_19.csv')"
   ]
  },
  {
   "cell_type": "code",
   "execution_count": 62,
   "metadata": {},
   "outputs": [
    {
     "data": {
      "text/html": [
       "<div>\n",
       "<style scoped>\n",
       "    .dataframe tbody tr th:only-of-type {\n",
       "        vertical-align: middle;\n",
       "    }\n",
       "\n",
       "    .dataframe tbody tr th {\n",
       "        vertical-align: top;\n",
       "    }\n",
       "\n",
       "    .dataframe thead th {\n",
       "        text-align: right;\n",
       "    }\n",
       "</style>\n",
       "<table border=\"1\" class=\"dataframe\">\n",
       "  <thead>\n",
       "    <tr style=\"text-align: right;\">\n",
       "      <th></th>\n",
       "      <th>Unnamed: 0</th>\n",
       "      <th>pageid</th>\n",
       "      <th>title</th>\n",
       "      <th>category</th>\n",
       "      <th>label</th>\n",
       "      <th>language</th>\n",
       "      <th>text</th>\n",
       "      <th>links</th>\n",
       "    </tr>\n",
       "  </thead>\n",
       "  <tbody>\n",
       "    <tr>\n",
       "      <th>0</th>\n",
       "      <td>0</td>\n",
       "      <td>22986</td>\n",
       "      <td>Politics</td>\n",
       "      <td>Politics</td>\n",
       "      <td>3</td>\n",
       "      <td>en</td>\n",
       "      <td>Politics (from Greek: Πολιτικά, politiká, 'aff...</td>\n",
       "      <td>[11887, 265752, 191253, 147885, 10368228, 2015...</td>\n",
       "    </tr>\n",
       "    <tr>\n",
       "      <th>1</th>\n",
       "      <td>1</td>\n",
       "      <td>38211935</td>\n",
       "      <td>Outline of political science</td>\n",
       "      <td>Politics</td>\n",
       "      <td>3</td>\n",
       "      <td>en</td>\n",
       "      <td>The following outline is provided as an overvi...</td>\n",
       "      <td>[976531, 22986, 16833931, 12229, 7485, 149170,...</td>\n",
       "    </tr>\n",
       "    <tr>\n",
       "      <th>2</th>\n",
       "      <td>2</td>\n",
       "      <td>1710895</td>\n",
       "      <td>Action alert</td>\n",
       "      <td>Politics</td>\n",
       "      <td>3</td>\n",
       "      <td>en</td>\n",
       "      <td>An action alert is a message that an organizat...</td>\n",
       "      <td>[18947898]</td>\n",
       "    </tr>\n",
       "    <tr>\n",
       "      <th>3</th>\n",
       "      <td>3</td>\n",
       "      <td>651934</td>\n",
       "      <td>Anti-incumbency</td>\n",
       "      <td>Politics</td>\n",
       "      <td>3</td>\n",
       "      <td>en</td>\n",
       "      <td>Anti-incumbency is sentiment in favor of votin...</td>\n",
       "      <td>[364022, 43136575, 505825, 31605, 233475, 216170]</td>\n",
       "    </tr>\n",
       "    <tr>\n",
       "      <th>4</th>\n",
       "      <td>4</td>\n",
       "      <td>1414677</td>\n",
       "      <td>Comparative politics</td>\n",
       "      <td>Politics</td>\n",
       "      <td>3</td>\n",
       "      <td>en</td>\n",
       "      <td>Comparative politics is a field in political s...</td>\n",
       "      <td>[24388, 2041141, 294833, 37123, 148131, 12229]</td>\n",
       "    </tr>\n",
       "    <tr>\n",
       "      <th>...</th>\n",
       "      <td>...</td>\n",
       "      <td>...</td>\n",
       "      <td>...</td>\n",
       "      <td>...</td>\n",
       "      <td>...</td>\n",
       "      <td>...</td>\n",
       "      <td>...</td>\n",
       "      <td>...</td>\n",
       "    </tr>\n",
       "    <tr>\n",
       "      <th>995</th>\n",
       "      <td>995</td>\n",
       "      <td>168919</td>\n",
       "      <td>Deliberative democracy</td>\n",
       "      <td>Politics</td>\n",
       "      <td>3</td>\n",
       "      <td>en</td>\n",
       "      <td>Deliberative democracy or discursive democracy...</td>\n",
       "      <td>[7959, 151350, 265752, 165760, 658906, 23040, ...</td>\n",
       "    </tr>\n",
       "    <tr>\n",
       "      <th>996</th>\n",
       "      <td>996</td>\n",
       "      <td>8467077</td>\n",
       "      <td>Democracy in Marxism</td>\n",
       "      <td>Politics</td>\n",
       "      <td>3</td>\n",
       "      <td>en</td>\n",
       "      <td>In Marxist theory, a new democratic society wi...</td>\n",
       "      <td>[43069524, 18178, 16743, 47096, 30312, 3858436...</td>\n",
       "    </tr>\n",
       "    <tr>\n",
       "      <th>997</th>\n",
       "      <td>997</td>\n",
       "      <td>46557297</td>\n",
       "      <td>Democratic confederalism</td>\n",
       "      <td>Politics</td>\n",
       "      <td>3</td>\n",
       "      <td>en</td>\n",
       "      <td>Democratic confederalism (Kurdish: Konfederalî...</td>\n",
       "      <td>[40316, 23040, 69680, 98439, 286947, 227091, 1...</td>\n",
       "    </tr>\n",
       "    <tr>\n",
       "      <th>998</th>\n",
       "      <td>998</td>\n",
       "      <td>412326</td>\n",
       "      <td>Democratic peace theory</td>\n",
       "      <td>Politics</td>\n",
       "      <td>3</td>\n",
       "      <td>en</td>\n",
       "      <td>The democratic peace theory posits that democr...</td>\n",
       "      <td>[7959, 33158, 9282116, 25755, 43851, 24956, 28...</td>\n",
       "    </tr>\n",
       "    <tr>\n",
       "      <th>999</th>\n",
       "      <td>999</td>\n",
       "      <td>2041027</td>\n",
       "      <td>Democratic structuring</td>\n",
       "      <td>Politics</td>\n",
       "      <td>3</td>\n",
       "      <td>en</td>\n",
       "      <td>The principles of democratic structuring were ...</td>\n",
       "      <td>[2020007, 21574392, 261062, 165760, 20756850, ...</td>\n",
       "    </tr>\n",
       "  </tbody>\n",
       "</table>\n",
       "<p>1000 rows × 8 columns</p>\n",
       "</div>"
      ],
      "text/plain": [
       "     Unnamed: 0    pageid                         title  category  label  \\\n",
       "0             0     22986                      Politics  Politics      3   \n",
       "1             1  38211935  Outline of political science  Politics      3   \n",
       "2             2   1710895                  Action alert  Politics      3   \n",
       "3             3    651934               Anti-incumbency  Politics      3   \n",
       "4             4   1414677          Comparative politics  Politics      3   \n",
       "..          ...       ...                           ...       ...    ...   \n",
       "995         995    168919        Deliberative democracy  Politics      3   \n",
       "996         996   8467077          Democracy in Marxism  Politics      3   \n",
       "997         997  46557297      Democratic confederalism  Politics      3   \n",
       "998         998    412326       Democratic peace theory  Politics      3   \n",
       "999         999   2041027        Democratic structuring  Politics      3   \n",
       "\n",
       "    language                                               text  \\\n",
       "0         en  Politics (from Greek: Πολιτικά, politiká, 'aff...   \n",
       "1         en  The following outline is provided as an overvi...   \n",
       "2         en  An action alert is a message that an organizat...   \n",
       "3         en  Anti-incumbency is sentiment in favor of votin...   \n",
       "4         en  Comparative politics is a field in political s...   \n",
       "..       ...                                                ...   \n",
       "995       en  Deliberative democracy or discursive democracy...   \n",
       "996       en  In Marxist theory, a new democratic society wi...   \n",
       "997       en  Democratic confederalism (Kurdish: Konfederalî...   \n",
       "998       en  The democratic peace theory posits that democr...   \n",
       "999       en  The principles of democratic structuring were ...   \n",
       "\n",
       "                                                 links  \n",
       "0    [11887, 265752, 191253, 147885, 10368228, 2015...  \n",
       "1    [976531, 22986, 16833931, 12229, 7485, 149170,...  \n",
       "2                                           [18947898]  \n",
       "3    [364022, 43136575, 505825, 31605, 233475, 216170]  \n",
       "4       [24388, 2041141, 294833, 37123, 148131, 12229]  \n",
       "..                                                 ...  \n",
       "995  [7959, 151350, 265752, 165760, 658906, 23040, ...  \n",
       "996  [43069524, 18178, 16743, 47096, 30312, 3858436...  \n",
       "997  [40316, 23040, 69680, 98439, 286947, 227091, 1...  \n",
       "998  [7959, 33158, 9282116, 25755, 43851, 24956, 28...  \n",
       "999  [2020007, 21574392, 261062, 165760, 20756850, ...  \n",
       "\n",
       "[1000 rows x 8 columns]"
      ]
     },
     "execution_count": 62,
     "metadata": {},
     "output_type": "execute_result"
    }
   ],
   "source": [
    "en_data22"
   ]
  },
  {
   "cell_type": "code",
   "execution_count": 63,
   "metadata": {},
   "outputs": [],
   "source": [
    "en_data_cit = en_data21.append(en_data22)"
   ]
  },
  {
   "cell_type": "code",
   "execution_count": 65,
   "metadata": {},
   "outputs": [],
   "source": [
    "tr_data_cit = pd.read_csv('wikiAPI/datasets/tr_04_18.csv')"
   ]
  },
  {
   "cell_type": "code",
   "execution_count": 103,
   "metadata": {},
   "outputs": [],
   "source": [
    "en_data_cit['numcit'] = en_data_cit['links'].apply(lambda x: len(list(filter(lambda x: x!='', x[1:-1].split(', ')))))\n",
    "tr_data_cit['numcit'] = tr_data_cit['links'].apply(lambda x: len(list(filter(lambda x: x!='', x[1:-1].split(', ')))))"
   ]
  },
  {
   "cell_type": "code",
   "execution_count": 104,
   "metadata": {},
   "outputs": [
    {
     "data": {
      "text/html": [
       "<div>\n",
       "<style scoped>\n",
       "    .dataframe tbody tr th:only-of-type {\n",
       "        vertical-align: middle;\n",
       "    }\n",
       "\n",
       "    .dataframe tbody tr th {\n",
       "        vertical-align: top;\n",
       "    }\n",
       "\n",
       "    .dataframe thead th {\n",
       "        text-align: right;\n",
       "    }\n",
       "</style>\n",
       "<table border=\"1\" class=\"dataframe\">\n",
       "  <thead>\n",
       "    <tr style=\"text-align: right;\">\n",
       "      <th></th>\n",
       "      <th>Unnamed: 0</th>\n",
       "      <th>Unnamed: 0.1</th>\n",
       "      <th>Unnamed: 0.1.1</th>\n",
       "      <th>Unnamed: 0.1.1.1</th>\n",
       "      <th>Unnamed: 0.1.1.1.1</th>\n",
       "      <th>pageid</th>\n",
       "      <th>title</th>\n",
       "      <th>category</th>\n",
       "      <th>label</th>\n",
       "      <th>language</th>\n",
       "      <th>text</th>\n",
       "      <th>links</th>\n",
       "      <th>numcit</th>\n",
       "    </tr>\n",
       "  </thead>\n",
       "  <tbody>\n",
       "    <tr>\n",
       "      <th>0</th>\n",
       "      <td>0</td>\n",
       "      <td>0.0</td>\n",
       "      <td>0.0</td>\n",
       "      <td>0.0</td>\n",
       "      <td>0.0</td>\n",
       "      <td>26700</td>\n",
       "      <td>Science</td>\n",
       "      <td>Science</td>\n",
       "      <td>0</td>\n",
       "      <td>en</td>\n",
       "      <td>Science (from Latin  scientia 'knowledge') is ...</td>\n",
       "      <td>[17730, 26833, 243391, 2691668, 216186, 246066...</td>\n",
       "      <td>60</td>\n",
       "    </tr>\n",
       "    <tr>\n",
       "      <th>1</th>\n",
       "      <td>1</td>\n",
       "      <td>1.0</td>\n",
       "      <td>1.0</td>\n",
       "      <td>1.0</td>\n",
       "      <td>1.0</td>\n",
       "      <td>9145213</td>\n",
       "      <td>Outline of science</td>\n",
       "      <td>Science</td>\n",
       "      <td>0</td>\n",
       "      <td>en</td>\n",
       "      <td>The following outline is provided as a topical...</td>\n",
       "      <td>[976531, 26700, 243391, 20785947, 637990, 3188...</td>\n",
       "      <td>18</td>\n",
       "    </tr>\n",
       "    <tr>\n",
       "      <th>2</th>\n",
       "      <td>2</td>\n",
       "      <td>2.0</td>\n",
       "      <td>2.0</td>\n",
       "      <td>2.0</td>\n",
       "      <td>2.0</td>\n",
       "      <td>70476313</td>\n",
       "      <td>Monochrome-astrophotography-techniques</td>\n",
       "      <td>Science</td>\n",
       "      <td>0</td>\n",
       "      <td>en</td>\n",
       "      <td>Monochrome photography is one of the earliest ...</td>\n",
       "      <td>[]</td>\n",
       "      <td>0</td>\n",
       "    </tr>\n",
       "    <tr>\n",
       "      <th>3</th>\n",
       "      <td>3</td>\n",
       "      <td>3.0</td>\n",
       "      <td>3.0</td>\n",
       "      <td>3.0</td>\n",
       "      <td>3.0</td>\n",
       "      <td>26997</td>\n",
       "      <td>Scientist</td>\n",
       "      <td>Science</td>\n",
       "      <td>0</td>\n",
       "      <td>en</td>\n",
       "      <td>A scientist is a person who conducts scientifi...</td>\n",
       "      <td>[26833, 11983318, 252905, 23276, 382251, 38890...</td>\n",
       "      <td>18</td>\n",
       "    </tr>\n",
       "    <tr>\n",
       "      <th>4</th>\n",
       "      <td>4</td>\n",
       "      <td>4.0</td>\n",
       "      <td>4.0</td>\n",
       "      <td>4.0</td>\n",
       "      <td>4.0</td>\n",
       "      <td>9145213</td>\n",
       "      <td>Outline of science</td>\n",
       "      <td>Science</td>\n",
       "      <td>0</td>\n",
       "      <td>en</td>\n",
       "      <td>The following outline is provided as a topical...</td>\n",
       "      <td>[976531, 26700, 243391, 20785947, 637990, 3188...</td>\n",
       "      <td>18</td>\n",
       "    </tr>\n",
       "    <tr>\n",
       "      <th>...</th>\n",
       "      <td>...</td>\n",
       "      <td>...</td>\n",
       "      <td>...</td>\n",
       "      <td>...</td>\n",
       "      <td>...</td>\n",
       "      <td>...</td>\n",
       "      <td>...</td>\n",
       "      <td>...</td>\n",
       "      <td>...</td>\n",
       "      <td>...</td>\n",
       "      <td>...</td>\n",
       "      <td>...</td>\n",
       "      <td>...</td>\n",
       "    </tr>\n",
       "    <tr>\n",
       "      <th>995</th>\n",
       "      <td>995</td>\n",
       "      <td>NaN</td>\n",
       "      <td>NaN</td>\n",
       "      <td>NaN</td>\n",
       "      <td>NaN</td>\n",
       "      <td>168919</td>\n",
       "      <td>Deliberative democracy</td>\n",
       "      <td>Politics</td>\n",
       "      <td>3</td>\n",
       "      <td>en</td>\n",
       "      <td>Deliberative democracy or discursive democracy...</td>\n",
       "      <td>[7959, 151350, 265752, 165760, 658906, 23040, ...</td>\n",
       "      <td>10</td>\n",
       "    </tr>\n",
       "    <tr>\n",
       "      <th>996</th>\n",
       "      <td>996</td>\n",
       "      <td>NaN</td>\n",
       "      <td>NaN</td>\n",
       "      <td>NaN</td>\n",
       "      <td>NaN</td>\n",
       "      <td>8467077</td>\n",
       "      <td>Democracy in Marxism</td>\n",
       "      <td>Politics</td>\n",
       "      <td>3</td>\n",
       "      <td>en</td>\n",
       "      <td>In Marxist theory, a new democratic society wi...</td>\n",
       "      <td>[43069524, 18178, 16743, 47096, 30312, 3858436...</td>\n",
       "      <td>38</td>\n",
       "    </tr>\n",
       "    <tr>\n",
       "      <th>997</th>\n",
       "      <td>997</td>\n",
       "      <td>NaN</td>\n",
       "      <td>NaN</td>\n",
       "      <td>NaN</td>\n",
       "      <td>NaN</td>\n",
       "      <td>46557297</td>\n",
       "      <td>Democratic confederalism</td>\n",
       "      <td>Politics</td>\n",
       "      <td>3</td>\n",
       "      <td>en</td>\n",
       "      <td>Democratic confederalism (Kurdish: Konfederalî...</td>\n",
       "      <td>[40316, 23040, 69680, 98439, 286947, 227091, 1...</td>\n",
       "      <td>68</td>\n",
       "    </tr>\n",
       "    <tr>\n",
       "      <th>998</th>\n",
       "      <td>998</td>\n",
       "      <td>NaN</td>\n",
       "      <td>NaN</td>\n",
       "      <td>NaN</td>\n",
       "      <td>NaN</td>\n",
       "      <td>412326</td>\n",
       "      <td>Democratic peace theory</td>\n",
       "      <td>Politics</td>\n",
       "      <td>3</td>\n",
       "      <td>en</td>\n",
       "      <td>The democratic peace theory posits that democr...</td>\n",
       "      <td>[7959, 33158, 9282116, 25755, 43851, 24956, 28...</td>\n",
       "      <td>23</td>\n",
       "    </tr>\n",
       "    <tr>\n",
       "      <th>999</th>\n",
       "      <td>999</td>\n",
       "      <td>NaN</td>\n",
       "      <td>NaN</td>\n",
       "      <td>NaN</td>\n",
       "      <td>NaN</td>\n",
       "      <td>2041027</td>\n",
       "      <td>Democratic structuring</td>\n",
       "      <td>Politics</td>\n",
       "      <td>3</td>\n",
       "      <td>en</td>\n",
       "      <td>The principles of democratic structuring were ...</td>\n",
       "      <td>[2020007, 21574392, 261062, 165760, 20756850, ...</td>\n",
       "      <td>7</td>\n",
       "    </tr>\n",
       "  </tbody>\n",
       "</table>\n",
       "<p>7000 rows × 13 columns</p>\n",
       "</div>"
      ],
      "text/plain": [
       "     Unnamed: 0  Unnamed: 0.1  Unnamed: 0.1.1  Unnamed: 0.1.1.1  \\\n",
       "0             0           0.0             0.0               0.0   \n",
       "1             1           1.0             1.0               1.0   \n",
       "2             2           2.0             2.0               2.0   \n",
       "3             3           3.0             3.0               3.0   \n",
       "4             4           4.0             4.0               4.0   \n",
       "..          ...           ...             ...               ...   \n",
       "995         995           NaN             NaN               NaN   \n",
       "996         996           NaN             NaN               NaN   \n",
       "997         997           NaN             NaN               NaN   \n",
       "998         998           NaN             NaN               NaN   \n",
       "999         999           NaN             NaN               NaN   \n",
       "\n",
       "     Unnamed: 0.1.1.1.1    pageid                                   title  \\\n",
       "0                   0.0     26700                                 Science   \n",
       "1                   1.0   9145213                      Outline of science   \n",
       "2                   2.0  70476313  Monochrome-astrophotography-techniques   \n",
       "3                   3.0     26997                               Scientist   \n",
       "4                   4.0   9145213                      Outline of science   \n",
       "..                  ...       ...                                     ...   \n",
       "995                 NaN    168919                  Deliberative democracy   \n",
       "996                 NaN   8467077                    Democracy in Marxism   \n",
       "997                 NaN  46557297                Democratic confederalism   \n",
       "998                 NaN    412326                 Democratic peace theory   \n",
       "999                 NaN   2041027                  Democratic structuring   \n",
       "\n",
       "     category  label language  \\\n",
       "0     Science      0       en   \n",
       "1     Science      0       en   \n",
       "2     Science      0       en   \n",
       "3     Science      0       en   \n",
       "4     Science      0       en   \n",
       "..        ...    ...      ...   \n",
       "995  Politics      3       en   \n",
       "996  Politics      3       en   \n",
       "997  Politics      3       en   \n",
       "998  Politics      3       en   \n",
       "999  Politics      3       en   \n",
       "\n",
       "                                                  text  \\\n",
       "0    Science (from Latin  scientia 'knowledge') is ...   \n",
       "1    The following outline is provided as a topical...   \n",
       "2    Monochrome photography is one of the earliest ...   \n",
       "3    A scientist is a person who conducts scientifi...   \n",
       "4    The following outline is provided as a topical...   \n",
       "..                                                 ...   \n",
       "995  Deliberative democracy or discursive democracy...   \n",
       "996  In Marxist theory, a new democratic society wi...   \n",
       "997  Democratic confederalism (Kurdish: Konfederalî...   \n",
       "998  The democratic peace theory posits that democr...   \n",
       "999  The principles of democratic structuring were ...   \n",
       "\n",
       "                                                 links  numcit  \n",
       "0    [17730, 26833, 243391, 2691668, 216186, 246066...      60  \n",
       "1    [976531, 26700, 243391, 20785947, 637990, 3188...      18  \n",
       "2                                                   []       0  \n",
       "3    [26833, 11983318, 252905, 23276, 382251, 38890...      18  \n",
       "4    [976531, 26700, 243391, 20785947, 637990, 3188...      18  \n",
       "..                                                 ...     ...  \n",
       "995  [7959, 151350, 265752, 165760, 658906, 23040, ...      10  \n",
       "996  [43069524, 18178, 16743, 47096, 30312, 3858436...      38  \n",
       "997  [40316, 23040, 69680, 98439, 286947, 227091, 1...      68  \n",
       "998  [7959, 33158, 9282116, 25755, 43851, 24956, 28...      23  \n",
       "999  [2020007, 21574392, 261062, 165760, 20756850, ...       7  \n",
       "\n",
       "[7000 rows x 13 columns]"
      ]
     },
     "execution_count": 104,
     "metadata": {},
     "output_type": "execute_result"
    }
   ],
   "source": [
    "en_data_cit"
   ]
  },
  {
   "cell_type": "code",
   "execution_count": 110,
   "metadata": {},
   "outputs": [
    {
     "data": {
      "text/plain": [
       "[14.796, 14.791, 14.658, 12.412, 11.872, 10.014, 9.243]"
      ]
     },
     "execution_count": 110,
     "metadata": {},
     "output_type": "execute_result"
    }
   ],
   "source": [
    "citation_en = en_data_cit.groupby('category').mean().numcit.sort_values(ascending=False).tolist()\n",
    "citation_en"
   ]
  },
  {
   "cell_type": "code",
   "execution_count": 112,
   "metadata": {},
   "outputs": [],
   "source": [
    "classes3 = [\"Politics / Siyaset\", \"Economy / Ekonomi\",'Health / Sağlık',  \"Science / Bilim\", \"Entertainment / Eğlence\", \"Sports / Spor\",\"Education / Eğitim\"]\n"
   ]
  },
  {
   "cell_type": "code",
   "execution_count": 107,
   "metadata": {},
   "outputs": [
    {
     "data": {
      "text/plain": [
       "category\n",
       "Siyaset    6.386\n",
       "Bilim      6.245\n",
       "Sağlık     5.468\n",
       "Eğlence    5.240\n",
       "Eğitim     5.071\n",
       "Spor       4.596\n",
       "Ekonomi    4.417\n",
       "Name: numcit, dtype: float64"
      ]
     },
     "execution_count": 107,
     "metadata": {},
     "output_type": "execute_result"
    }
   ],
   "source": [
    "citation_tr = tr_data_cit.groupby('category').mean().numcit.sort_values(ascending=False)\n",
    "citation_tr"
   ]
  },
  {
   "cell_type": "code",
   "execution_count": 113,
   "metadata": {},
   "outputs": [],
   "source": [
    "x = np.arange(7)\n",
    "citations_tr_final = []\n",
    "for c in classes3:\n",
    "    k = c.split(' / ')[1]\n",
    "    citations_tr_final.append(citation_tr.loc[k])"
   ]
  },
  {
   "cell_type": "code",
   "execution_count": 114,
   "metadata": {},
   "outputs": [
    {
     "data": {
      "text/plain": [
       "[6.386, 4.417, 5.468, 6.245, 5.24, 4.596, 5.071]"
      ]
     },
     "execution_count": 114,
     "metadata": {},
     "output_type": "execute_result"
    }
   ],
   "source": [
    "citations_tr_final"
   ]
  },
  {
   "cell_type": "code",
   "execution_count": 116,
   "metadata": {},
   "outputs": [
    {
     "data": {
      "text/plain": [
       "[14.796, 14.791, 14.658, 12.412, 11.872, 10.014, 9.243]"
      ]
     },
     "execution_count": 116,
     "metadata": {},
     "output_type": "execute_result"
    }
   ],
   "source": [
    "citation_en"
   ]
  },
  {
   "cell_type": "code",
   "execution_count": 128,
   "metadata": {},
   "outputs": [
    {
     "data": {
      "image/png": "[encoded data removed]",
      "text/plain": [
       "<Figure size 1224x576 with 1 Axes>"
      ]
     },
     "metadata": {},
     "output_type": "display_data"
    }
   ],
   "source": [
    "sns.set_style('whitegrid')\n",
    "sns.set_context('poster', font_scale = .6)\n",
    "fig = plt.figure(figsize=(17,8))\n",
    "plt.bar(x, citation_en, width=0.3, edgecolor='black', linewidth=1,  label = 'English',align='center', color = '#2A8B53')\n",
    "plt.bar(x, citations_tr_final, width=0.3, edgecolor='black', linewidth=1, label = 'Turkish',align='center',color = '#6DD499')\n",
    "plt.xticks(x+0.125, classes, fontsize=15)\n",
    "plt.yticks(fontsize=20)\n",
    "plt.ylabel('No. of citations', fontsize=20)\n",
    "plt.title('Average number of citations', fontsize=28, pad=20)\n",
    "plt.legend(prop={'size': 18})\n",
    "plt.savefig(\"avgcits.png\", facecolor='#EBEBEB',bbox_inches = \"tight\")"
   ]
  },
  {
   "cell_type": "code",
   "execution_count": null,
   "metadata": {},
   "outputs": [],
   "source": []
  }
 ],
 "metadata": {
  "kernelspec": {
   "display_name": "Python 3",
   "language": "python",
   "name": "python3"
  },
  "language_info": {
   "codemirror_mode": {
    "name": "ipython",
    "version": 3
   },
   "file_extension": ".py",
   "mimetype": "text/x-python",
   "name": "python",
   "nbconvert_exporter": "python",
   "pygments_lexer": "ipython3",
   "version": "3.7.7"
  }
 },
 "nbformat": 4,
 "nbformat_minor": 4
}
